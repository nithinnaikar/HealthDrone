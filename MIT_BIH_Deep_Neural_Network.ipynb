{
  "nbformat": 4,
  "nbformat_minor": 0,
  "metadata": {
    "colab": {
      "name": "MIT-BIH Deep Neural Network",
      "provenance": []
    },
    "kernelspec": {
      "display_name": "Python 3",
      "name": "python3"
    }
  },
  "cells": [
    {
      "cell_type": "code",
      "metadata": {
        "id": "VZ6rke8N0aPA"
      },
      "source": [
        "# Importing Necessary Libraries\r\n",
        "import google\r\n",
        "import numpy\r\n",
        "import pandas\r\n",
        "import sklearn\r\n",
        "import tensorflow \r\n",
        "import matplotlib"
      ],
      "execution_count": 2,
      "outputs": []
    },
    {
      "cell_type": "code",
      "metadata": {
        "colab": {
          "resources": {
            "http://localhost:8080/nbextensions/google.colab/files.js": {
              "data": "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",
              "ok": true,
              "headers": [
                [
                  "content-type",
                  "application/javascript"
                ]
              ],
              "status": 200,
              "status_text": ""
            }
          },
          "base_uri": "https://localhost:8080/",
          "height": 92
        },
        "id": "VLEUj_xb0dGD",
        "outputId": "471cbfc0-f077-438d-abaa-33ff097530db"
      },
      "source": [
        "# Kaggle API Authentication\r\n",
        "!pip install -q kaggle\r\n",
        "files.upload()\r\n",
        "!mkdir -p ~/.kaggle\r\n",
        "!cp kaggle.json ~/.kaggle/\r\n",
        "!ls ~/.kaggle\r\n",
        "!chmod 600 /root/.kaggle/kaggle.json"
      ],
      "execution_count": 3,
      "outputs": [
        {
          "output_type": "display_data",
          "data": {
            "text/html": [
              "\n",
              "     <input type=\"file\" id=\"files-9249f631-3a59-4162-bad9-45aed4ddb940\" name=\"files[]\" multiple disabled\n",
              "        style=\"border:none\" />\n",
              "     <output id=\"result-9249f631-3a59-4162-bad9-45aed4ddb940\">\n",
              "      Upload widget is only available when the cell has been executed in the\n",
              "      current browser session. Please rerun this cell to enable.\n",
              "      </output>\n",
              "      <script src=\"/nbextensions/google.colab/files.js\"></script> "
            ],
            "text/plain": [
              "<IPython.core.display.HTML object>"
            ]
          },
          "metadata": {
            "tags": []
          }
        },
        {
          "output_type": "stream",
          "text": [
            "Saving kaggle.json to kaggle.json\n",
            "kaggle.json\n"
          ],
          "name": "stdout"
        }
      ]
    },
    {
      "cell_type": "code",
      "metadata": {
        "colab": {
          "base_uri": "https://localhost:8080/"
        },
        "id": "1_RkGJii0fG0",
        "outputId": "930faa37-cae0-4142-da74-0ae4d218a932"
      },
      "source": [
        "# Downloading and Unzipping The Dataset\r\n",
        "!kaggle datasets download -d shayanfazeli/heartbeat\r\n",
        "!unzip -q heartbeat.zip"
      ],
      "execution_count": 4,
      "outputs": [
        {
          "output_type": "stream",
          "text": [
            "Downloading heartbeat.zip to /content\n",
            " 90% 89.0M/98.8M [00:02<00:00, 29.7MB/s]\n",
            "100% 98.8M/98.8M [00:02<00:00, 37.4MB/s]\n"
          ],
          "name": "stdout"
        }
      ]
    },
    {
      "cell_type": "code",
      "metadata": {
        "id": "p2-JPrZ70lnE"
      },
      "source": [
        "# Initializing The Training and Testing Datasets\r\n",
        "training_dataset = pandas.read_csv(\"/content/mitbih_train.csv\", header = None)\r\n",
        "testing_dataset = pandas.read_csv(\"/content/mitbih_test.csv\", header = None)"
      ],
      "execution_count": 5,
      "outputs": []
    },
    {
      "cell_type": "code",
      "metadata": {
        "colab": {
          "base_uri": "https://localhost:8080/"
        },
        "id": "PxcpF_fKAx9K",
        "outputId": "b320b42a-221e-43fe-f96a-c7398410f24f"
      },
      "source": [
        "# Examining The Training Dataset Class Distribution\r\n",
        "print(\" Training Dataset Class Distribution:\\n\\n{}\".format(training_dataset[187].value_counts()))"
      ],
      "execution_count": 6,
      "outputs": [
        {
          "output_type": "stream",
          "text": [
            " Training Dataset Class Distribution:\n",
            "\n",
            "0.0    72471\n",
            "4.0     6431\n",
            "2.0     5788\n",
            "1.0     2223\n",
            "3.0      641\n",
            "Name: 187, dtype: int64\n"
          ],
          "name": "stdout"
        }
      ]
    },
    {
      "cell_type": "code",
      "metadata": {
        "colab": {
          "base_uri": "https://localhost:8080/",
          "height": 248
        },
        "id": "qobsROYUAyvl",
        "outputId": "b1b8c7d6-bcb0-4df9-8859-364d7c60ab75"
      },
      "source": [
        "# Visualizing The Training Dataset Class Distribution\r\n",
        "matplotlib.pyplot.figure()\r\n",
        "matplotlib.pyplot.pie(training_dataset[187].value_counts(), labels = [\"n\", \"q\", \"v\", \"s\", \"f\"], colors = [\"red\", \"green\", \"blue\", \"skyblue\", \"orange\"])\r\n",
        "matplotlib.pyplot.show()"
      ],
      "execution_count": 7,
      "outputs": [
        {
          "output_type": "display_data",
          "data": {
            "image/png": "[encoded data removed]",
            "text/plain": [
              "<Figure size 432x288 with 1 Axes>"
            ]
          },
          "metadata": {
            "tags": []
          }
        }
      ]
    },
    {
      "cell_type": "code",
      "metadata": {
        "id": "1aEKWhXNA6oH"
      },
      "source": [
        "# Resampling and Balancing The Training Dataset\r\n",
        "from sklearn.utils import resample\r\n",
        "\r\n",
        "\r\n",
        "df_1=training_dataset[training_dataset[187]==1]\r\n",
        "df_2=training_dataset[training_dataset[187]==2]\r\n",
        "df_3=training_dataset[training_dataset[187]==3]\r\n",
        "df_4=training_dataset[training_dataset[187]==4]\r\n",
        "df_0=(training_dataset[training_dataset[187]==0]).sample(n=20000,random_state=42)\r\n",
        "\r\n",
        "df_1_upsample=resample(df_1,replace=True,n_samples=20000,random_state=123)\r\n",
        "df_2_upsample=resample(df_2,replace=True,n_samples=20000,random_state=124)\r\n",
        "df_3_upsample=resample(df_3,replace=True,n_samples=20000,random_state=125)\r\n",
        "df_4_upsample=resample(df_4,replace=True,n_samples=20000,random_state=126)\r\n",
        "\r\n",
        "training_dataset = pandas.concat([df_0,df_1_upsample,df_2_upsample,df_3_upsample,df_4_upsample])"
      ],
      "execution_count": 13,
      "outputs": []
    },
    {
      "cell_type": "code",
      "metadata": {
        "colab": {
          "base_uri": "https://localhost:8080/"
        },
        "id": "QYacXsRrBEH6",
        "outputId": "213d273d-0b5d-4adc-b5f5-8e1d8dee6769"
      },
      "source": [
        "# Examining The Updated Training Dataset Class Distribution\r\n",
        "print(\"Updated Dataset Class Distribution:\\n\\n{}\".format(training_dataset[187].value_counts()))"
      ],
      "execution_count": 15,
      "outputs": [
        {
          "output_type": "stream",
          "text": [
            "Updated Dataset Class Distribution:\n",
            "\n",
            "1.0    20000\n",
            "3.0    20000\n",
            "4.0    20000\n",
            "2.0    20000\n",
            "0.0    20000\n",
            "Name: 187, dtype: int64\n"
          ],
          "name": "stdout"
        }
      ]
    },
    {
      "cell_type": "code",
      "metadata": {
        "colab": {
          "base_uri": "https://localhost:8080/",
          "height": 248
        },
        "id": "MQI7YdcABHLL",
        "outputId": "9bc46405-7874-439b-cf1c-537f5d694e38"
      },
      "source": [
        "# Visualizing The Updated Training Dataset Class Distribution\r\n",
        "matplotlib.pyplot.figure()\r\n",
        "matplotlib.pyplot.pie(training_dataset[187].value_counts(), labels = [\"n\", \"q\", \"v\", \"s\", \"f\"], colors = [\"red\", \"green\", \"blue\", \"skyblue\", \"orange\"])\r\n",
        "matplotlib.pyplot.show()"
      ],
      "execution_count": 16,
      "outputs": [
        {
          "output_type": "display_data",
          "data": {
            "image/png": "[encoded data removed]",
            "text/plain": [
              "<Figure size 432x288 with 1 Axes>"
            ]
          },
          "metadata": {
            "tags": []
          }
        }
      ]
    },
    {
      "cell_type": "code",
      "metadata": {
        "id": "n8Glm0-N0nwn"
      },
      "source": [
        "# Formatting The Training and Testing Datasets\r\n",
        "X_train = training_dataset.iloc[:, :186].values\r\n",
        "X_test = testing_dataset.iloc[:, :186].values\r\n",
        "\r\n",
        "X_train = X_train.reshape(len(X_train), X_train.shape[1], 1)\r\n",
        "X_test = X_test.reshape(len(X_test), X_test.shape[1], 1)\r\n",
        "\r\n",
        "y_train = tensorflow.keras.utils.to_categorical(training_dataset[187])\r\n",
        "y_test = tensorflow.keras.utils.to_categorical(testing_dataset[187])"
      ],
      "execution_count": 17,
      "outputs": []
    },
    {
      "cell_type": "code",
      "metadata": {
        "id": "cfPGv4TJ0tbs"
      },
      "source": [
        "# Initializing The Model\r\n",
        "model = tensorflow.keras.models.Sequential([\r\n",
        "        tensorflow.keras.layers.Flatten(),\r\n",
        "        tensorflow.keras.layers.Dense(units = 256, activation = \"relu\"),\r\n",
        "        tensorflow.keras.layers.Dense(units = 256, activation = \"relu\"),\r\n",
        "        tensorflow.keras.layers.Dense(units = 5, activation = \"softmax\")\r\n",
        "])"
      ],
      "execution_count": 18,
      "outputs": []
    },
    {
      "cell_type": "code",
      "metadata": {
        "id": "lZBsQziS0x9b"
      },
      "source": [
        "model.compile(optimizer = \"SGD\", loss = \"categorical_crossentropy\", metrics = [\"accuracy\"])"
      ],
      "execution_count": 19,
      "outputs": []
    },
    {
      "cell_type": "code",
      "metadata": {
        "colab": {
          "base_uri": "https://localhost:8080/"
        },
        "id": "vlSRu_6u0208",
        "outputId": "2c549753-04a1-4023-f565-c27b0d659c23"
      },
      "source": [
        "model.fit(X_train, y_train, epochs = 20)"
      ],
      "execution_count": 20,
      "outputs": [
        {
          "output_type": "stream",
          "text": [
            "Epoch 1/20\n",
            "3125/3125 [==============================] - 6s 2ms/step - loss: 0.7847 - accuracy: 0.7253\n",
            "Epoch 2/20\n",
            "3125/3125 [==============================] - 5s 2ms/step - loss: 0.5144 - accuracy: 0.8118\n",
            "Epoch 3/20\n",
            "3125/3125 [==============================] - 5s 2ms/step - loss: 0.4251 - accuracy: 0.8444\n",
            "Epoch 4/20\n",
            "3125/3125 [==============================] - 5s 2ms/step - loss: 0.3738 - accuracy: 0.8632\n",
            "Epoch 5/20\n",
            "3125/3125 [==============================] - 5s 2ms/step - loss: 0.3375 - accuracy: 0.8780\n",
            "Epoch 6/20\n",
            "3125/3125 [==============================] - 6s 2ms/step - loss: 0.3089 - accuracy: 0.8891\n",
            "Epoch 7/20\n",
            "3125/3125 [==============================] - 6s 2ms/step - loss: 0.2855 - accuracy: 0.8975\n",
            "Epoch 8/20\n",
            "3125/3125 [==============================] - 6s 2ms/step - loss: 0.2646 - accuracy: 0.9047\n",
            "Epoch 9/20\n",
            "3125/3125 [==============================] - 5s 2ms/step - loss: 0.2463 - accuracy: 0.9119\n",
            "Epoch 10/20\n",
            "3125/3125 [==============================] - 5s 2ms/step - loss: 0.2308 - accuracy: 0.9178\n",
            "Epoch 11/20\n",
            "3125/3125 [==============================] - 5s 2ms/step - loss: 0.2160 - accuracy: 0.9242\n",
            "Epoch 12/20\n",
            "3125/3125 [==============================] - 6s 2ms/step - loss: 0.2037 - accuracy: 0.9293\n",
            "Epoch 13/20\n",
            "3125/3125 [==============================] - 6s 2ms/step - loss: 0.1920 - accuracy: 0.9344\n",
            "Epoch 14/20\n",
            "3125/3125 [==============================] - 5s 2ms/step - loss: 0.1813 - accuracy: 0.9387\n",
            "Epoch 15/20\n",
            "3125/3125 [==============================] - 6s 2ms/step - loss: 0.1718 - accuracy: 0.9433\n",
            "Epoch 16/20\n",
            "3125/3125 [==============================] - 5s 2ms/step - loss: 0.1633 - accuracy: 0.9470\n",
            "Epoch 17/20\n",
            "3125/3125 [==============================] - 5s 2ms/step - loss: 0.1549 - accuracy: 0.9496\n",
            "Epoch 18/20\n",
            "3125/3125 [==============================] - 5s 2ms/step - loss: 0.1482 - accuracy: 0.9522\n",
            "Epoch 19/20\n",
            "3125/3125 [==============================] - 6s 2ms/step - loss: 0.1409 - accuracy: 0.9551\n",
            "Epoch 20/20\n",
            "3125/3125 [==============================] - 6s 2ms/step - loss: 0.1345 - accuracy: 0.9568\n"
          ],
          "name": "stdout"
        },
        {
          "output_type": "execute_result",
          "data": {
            "text/plain": [
              "<tensorflow.python.keras.callbacks.History at 0x7f90ee141f60>"
            ]
          },
          "metadata": {
            "tags": []
          },
          "execution_count": 20
        }
      ]
    },
    {
      "cell_type": "code",
      "metadata": {
        "colab": {
          "base_uri": "https://localhost:8080/",
          "height": 279
        },
        "id": "Z-nIyH2d1T5M",
        "outputId": "efa8f5d1-c9d6-49b7-8507-f95d837042e4"
      },
      "source": [
        "# Visualizing The Optimization\r\n",
        "matplotlib.pyplot.figure()\r\n",
        "matplotlib.pyplot.plot(model.history.epoch, model.history.history[\"loss\"])\r\n",
        "matplotlib.pyplot.xlabel(\"Epoch\")\r\n",
        "matplotlib.pyplot.ylabel(\"Loss\")\r\n",
        "matplotlib.pyplot.show()"
      ],
      "execution_count": 21,
      "outputs": [
        {
          "output_type": "display_data",
          "data": {
            "image/png": "[encoded data removed]",
            "text/plain": [
              "<Figure size 432x288 with 1 Axes>"
            ]
          },
          "metadata": {
            "tags": [],
            "needs_background": "light"
          }
        }
      ]
    },
    {
      "cell_type": "code",
      "metadata": {
        "colab": {
          "base_uri": "https://localhost:8080/"
        },
        "id": "Ryl5_XoLcs2u",
        "outputId": "111a9864-3d9e-4b52-f494-1c5aa69565f7"
      },
      "source": [
        "print(\"Testing Accuracy: {}%\".format(((model.evaluate((X_test), y_test))[1] * 100)))"
      ],
      "execution_count": 23,
      "outputs": [
        {
          "output_type": "stream",
          "text": [
            "685/685 [==============================] - 1s 1ms/step - loss: 0.2348 - accuracy: 0.9200\n",
            "Testing Accuracy: 92.00164675712585%\n"
          ],
          "name": "stdout"
        }
      ]
    }
  ]
}